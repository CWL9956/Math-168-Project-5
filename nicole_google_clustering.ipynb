{
 "cells": [
  {
   "cell_type": "code",
   "execution_count": null,
   "id": "5b35e3e1",
   "metadata": {},
   "outputs": [],
   "source": [
    "import networkx as nx\n",
    "import random\n",
    "import matplotlib.pyplot as plt\n",
    "import os\n",
    "import pandas as pd\n",
    "import numpy as np\n",
    "import scipy as sp"
   ]
  },
  {
   "cell_type": "markdown",
   "id": "50f20a9a",
   "metadata": {},
   "source": [
    "## Community Clustering"
   ]
  },
  {
   "cell_type": "markdown",
   "id": "7dd3d827",
   "metadata": {},
   "source": [
    "### Importing Google+ Data"
   ]
  },
  {
   "cell_type": "code",
   "execution_count": null,
   "id": "34142feb",
   "metadata": {},
   "outputs": [],
   "source": [
    "import numpy as np\n",
    "import pandas as pd\n",
    "import networkx as nx\n",
    "import matplotlib.pyplot as plt\n",
    "    \n",
    "df = pd.read_csv('gplus_combined.txt', delimiter=' ')\n",
    "edges_list = [(df.iloc[i, 0], df.iloc[i, 1]) for i in range(len(df))]\n",
    "\n",
    "gplus_graph = nx.DiGraph()\n",
    "gplus_graph.add_edges_from(edges_list)"
   ]
  },
  {
   "cell_type": "code",
   "execution_count": 2,
   "id": "75f650a6",
   "metadata": {},
   "outputs": [],
   "source": [
    "import pickle\n",
    "\n",
    "filename = 'gplus_graph.pkl'\n",
    "with open(filename, 'wb') as file:\n",
    "    pickle.dump(gplus_graph, file)"
   ]
  },
  {
   "cell_type": "code",
   "execution_count": 3,
   "id": "3e0a46e0",
   "metadata": {},
   "outputs": [],
   "source": [
    "with open( 'gplus_graph.pkl', 'rb') as file:\n",
    "    gplus_graph = pickle.load(file)"
   ]
  },
  {
   "cell_type": "code",
   "execution_count": 4,
   "id": "e6db55e6",
   "metadata": {},
   "outputs": [],
   "source": [
    "communities = list(nx.community.louvain_communities(gplus_graph))"
   ]
  },
  {
   "cell_type": "code",
   "execution_count": 5,
   "id": "44bada69",
   "metadata": {},
   "outputs": [
    {
     "name": "stdout",
     "output_type": "stream",
     "text": [
      "modularity of partition is 0.4882\n"
     ]
    }
   ],
   "source": [
    "modularity = nx.algorithms.community.modularity(gplus_graph, communities)\n",
    "print(f'modularity of partition is {modularity:.4f}')"
   ]
  },
  {
   "cell_type": "code",
   "execution_count": null,
   "id": "2f2e2a83",
   "metadata": {},
   "outputs": [],
   "source": [
    "bridge_nodes = set()\n",
    "for comm1 in range(len(communities)):\n",
    "    for comm2 in range(comm1 + 1, len(communities)):\n",
    "        for node1 in communities[comm1]:\n",
    "            for node2 in communities[comm2]:\n",
    "                if gplus_graph.has_edge(node1, node2):\n",
    "                    bridge_nodes.add(node1)\n",
    "                    bridge_nodes.add(node2)"
   ]
  },
  {
   "cell_type": "code",
   "execution_count": null,
   "id": "96783486",
   "metadata": {},
   "outputs": [],
   "source": [
    "num_communities = len(communities)\n",
    "print(f'{num_communities} communities')"
   ]
  },
  {
   "cell_type": "markdown",
   "id": "8347e7fc",
   "metadata": {},
   "source": [
    "### Clustering Visualization"
   ]
  },
  {
   "cell_type": "code",
   "execution_count": null,
   "id": "745a307d",
   "metadata": {},
   "outputs": [],
   "source": [
    "plt.figure(figsize=(10, 10))\n",
    "pos = nx.spring_layout(gplus_graph) \n",
    "colors = [i for i in range(len(communities)) for _ in communities[i]]"
   ]
  }
 ],
 "metadata": {
  "kernelspec": {
   "display_name": "Python 3 (ipykernel)",
   "language": "python",
   "name": "python3"
  },
  "language_info": {
   "codemirror_mode": {
    "name": "ipython",
    "version": 3
   },
   "file_extension": ".py",
   "mimetype": "text/x-python",
   "name": "python",
   "nbconvert_exporter": "python",
   "pygments_lexer": "ipython3",
   "version": "3.11.5"
  }
 },
 "nbformat": 4,
 "nbformat_minor": 5
}
