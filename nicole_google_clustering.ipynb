{
 "cells": [
  {
   "cell_type": "code",
   "execution_count": 1,
   "id": "5b35e3e1",
   "metadata": {},
   "outputs": [],
   "source": [
    "import networkx as nx\n",
    "import random\n",
    "import matplotlib.pyplot as plt\n",
    "import os\n",
    "import pandas as pd\n",
    "import numpy as np\n",
    "import scipy as sp"
   ]
  },
  {
   "cell_type": "markdown",
   "id": "50f20a9a",
   "metadata": {},
   "source": [
    "## this one is still in progress, the fb is mostly done 3/7"
   ]
  },
  {
   "cell_type": "markdown",
   "id": "7dd3d827",
   "metadata": {},
   "source": [
    "### Importing Google+ Data"
   ]
  },
  {
   "cell_type": "code",
   "execution_count": 2,
   "id": "47f61a12",
   "metadata": {},
   "outputs": [],
   "source": [
    "import pickle\n",
    "\n",
    "with open( 'gplus_graph.pkl', 'rb') as file:\n",
    "    G_copy = pickle.load(file)"
   ]
  },
  {
   "cell_type": "code",
   "execution_count": null,
   "id": "869d5fc5",
   "metadata": {},
   "outputs": [],
   "source": [
    "nx.draw(G_copy)"
   ]
  }
 ],
 "metadata": {
  "kernelspec": {
   "display_name": "Python 3 (ipykernel)",
   "language": "python",
   "name": "python3"
  },
  "language_info": {
   "codemirror_mode": {
    "name": "ipython",
    "version": 3
   },
   "file_extension": ".py",
   "mimetype": "text/x-python",
   "name": "python",
   "nbconvert_exporter": "python",
   "pygments_lexer": "ipython3",
   "version": "3.11.5"
  }
 },
 "nbformat": 4,
 "nbformat_minor": 5
}
